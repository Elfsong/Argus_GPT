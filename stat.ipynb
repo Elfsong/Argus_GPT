{
 "cells": [
  {
   "cell_type": "code",
   "execution_count": 26,
   "metadata": {},
   "outputs": [],
   "source": [
    "import evaluate\n",
    "import pandas as pd"
   ]
  },
  {
   "cell_type": "code",
   "execution_count": 33,
   "metadata": {},
   "outputs": [],
   "source": [
    "# 'A.I.' if label == 0 else 'Human'\n",
    "accuracy = evaluate.load(\"accuracy\")"
   ]
  },
  {
   "attachments": {},
   "cell_type": "markdown",
   "metadata": {},
   "source": [
    "# Prompt_1_to_1.csv\""
   ]
  },
  {
   "cell_type": "code",
   "execution_count": 37,
   "metadata": {},
   "outputs": [],
   "source": [
    "df = pd.read_csv(\"./Prompt_1_to_1.csv\")"
   ]
  },
  {
   "cell_type": "code",
   "execution_count": 38,
   "metadata": {},
   "outputs": [
    {
     "name": "stdout",
     "output_type": "stream",
     "text": [
      "{'accuracy': 0.698}\n"
     ]
    }
   ],
   "source": [
    "true_list = list(df[\"source_gptzero\"])\n",
    "false_list = list(df[\"target_gptzero\"])\n",
    "\n",
    "references = [1] * 500 + [0] * 500\n",
    "predictions = true_list + false_list\n",
    "\n",
    "result = accuracy.compute(references=references, predictions=predictions)\n",
    "print(result)"
   ]
  },
  {
   "cell_type": "code",
   "execution_count": 39,
   "metadata": {},
   "outputs": [
    {
     "name": "stdout",
     "output_type": "stream",
     "text": [
      "{'accuracy': 0.506}\n"
     ]
    }
   ],
   "source": [
    "true_list = list(df[\"source_detectgpt\"])\n",
    "false_list = list(df[\"target_detectgpt\"])\n",
    "\n",
    "references = [1] * 500 + [0] * 500\n",
    "predictions = true_list + false_list\n",
    "\n",
    "result = accuracy.compute(references=references, predictions=predictions)\n",
    "print(result)"
   ]
  },
  {
   "attachments": {},
   "cell_type": "markdown",
   "metadata": {},
   "source": [
    "# Prompt_1_to_3.csv"
   ]
  },
  {
   "cell_type": "code",
   "execution_count": 40,
   "metadata": {},
   "outputs": [],
   "source": [
    "df = pd.read_csv(\"./Prompt_1_to_3.csv\")"
   ]
  },
  {
   "cell_type": "code",
   "execution_count": 41,
   "metadata": {},
   "outputs": [
    {
     "name": "stdout",
     "output_type": "stream",
     "text": [
      "{'accuracy': 0.676}\n"
     ]
    }
   ],
   "source": [
    "true_list = list(df[\"source_gptzero\"])\n",
    "false_list = list(df[\"target_gptzero\"])\n",
    "\n",
    "references = [1] * 500 + [0] * 500\n",
    "predictions = true_list + false_list\n",
    "\n",
    "result = accuracy.compute(references=references, predictions=predictions)\n",
    "print(result)"
   ]
  },
  {
   "cell_type": "code",
   "execution_count": 42,
   "metadata": {},
   "outputs": [
    {
     "name": "stdout",
     "output_type": "stream",
     "text": [
      "{'accuracy': 0.506}\n"
     ]
    }
   ],
   "source": [
    "true_list = list(df[\"source_detectgpt\"])\n",
    "false_list = list(df[\"target_detectgpt\"])\n",
    "\n",
    "references = [1] * 500 + [0] * 500\n",
    "predictions = true_list + false_list\n",
    "\n",
    "result = accuracy.compute(references=references, predictions=predictions)\n",
    "print(result)"
   ]
  },
  {
   "cell_type": "code",
   "execution_count": null,
   "metadata": {},
   "outputs": [],
   "source": []
  }
 ],
 "metadata": {
  "kernelspec": {
   "display_name": "workspace",
   "language": "python",
   "name": "python3"
  },
  "language_info": {
   "codemirror_mode": {
    "name": "ipython",
    "version": 3
   },
   "file_extension": ".py",
   "mimetype": "text/x-python",
   "name": "python",
   "nbconvert_exporter": "python",
   "pygments_lexer": "ipython3",
   "version": "3.9.16"
  },
  "orig_nbformat": 4
 },
 "nbformat": 4,
 "nbformat_minor": 2
}
